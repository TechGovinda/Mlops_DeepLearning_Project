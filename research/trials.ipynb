{
 "cells": [
  {
   "cell_type": "code",
   "execution_count": 12,
   "id": "da62ba12",
   "metadata": {},
   "outputs": [
    {
     "name": "stdout",
     "output_type": "stream",
     "text": [
      "{'artifacts_root': 'artifacts', 'data_ingestion': {'root_dir': 'artifacts/data_ingestion', 'source_URL': 'https://github.com/TechGovinda/Datasets/blob/main/Chicken-fecal-images.zip', 'local_data_file': 'artifacts/data_ingestion/data.zip', 'unzip_dir': 'artifacts/data_ingestion'}}\n",
      "<class 'dict'>\n"
     ]
    },
    {
     "data": {
      "text/plain": [
       "{'root_dir': 'artifacts/data_ingestion',\n",
       " 'source_URL': 'https://github.com/TechGovinda/Datasets/blob/main/Chicken-fecal-images.zip',\n",
       " 'local_data_file': 'artifacts/data_ingestion/data.zip',\n",
       " 'unzip_dir': 'artifacts/data_ingestion'}"
      ]
     },
     "execution_count": 12,
     "metadata": {},
     "output_type": "execute_result"
    }
   ],
   "source": [
    "import yaml\n",
    "yaml_file_path='C:\\\\Users\\\\Govinda sah\\\\MLOPs\\\\Mlops_DeepLearning_Project\\\\config\\\\config.yaml'\n",
    "with open(yaml_file_path,'r') as yaml_file:\n",
    "    data=yaml.safe_load(yaml_file)\n",
    "    \n",
    "print(data)\n",
    "print(type(data))\n",
    "data['data_ingestion']"
   ]
  },
  {
   "cell_type": "code",
   "execution_count": 4,
   "id": "6ea1e2e4",
   "metadata": {},
   "outputs": [
    {
     "name": "stdout",
     "output_type": "stream",
     "text": [
      "ZIP file downloaded and saved to: artifact/data_ingestion\\repo.zip\n"
     ]
    }
   ],
   "source": [
    "import os\n",
    "import requests\n",
    "\n",
    "# GitHub ZIP file URL\n",
    "github_zip_url = 'https://github.com/TechGovinda/Datasets/blob/main/Chicken-fecal-images.zip'\n",
    "\n",
    "# Define the target directory and file path\n",
    "target_dir = 'artifact/data_ingestion'\n",
    "zip_filename = 'repo.zip'\n",
    "os.makedirs(target_dir, exist_ok=True)  # Create the directory if it doesn't exist\n",
    "zip_file_path = os.path.join(target_dir, zip_filename)\n",
    "\n",
    "# Download the ZIP file\n",
    "response = requests.get(github_zip_url)\n",
    "if response.status_code == 200:\n",
    "    with open(zip_file_path, 'wb') as f:\n",
    "        f.write(response.content)\n",
    "    print(f\"ZIP file downloaded and saved to: {zip_file_path}\")\n",
    "else:\n",
    "    print(f\"Failed to download file. Status code: {response.status_code}\")\n"
   ]
  },
  {
   "cell_type": "code",
   "execution_count": 9,
   "id": "2c69fdb1",
   "metadata": {},
   "outputs": [
    {
     "name": "stdout",
     "output_type": "stream",
     "text": [
      "Extraction successful.\n"
     ]
    }
   ],
   "source": [
    "import requests\n",
    "import zipfile\n",
    "import io\n",
    "import os\n",
    "\n",
    "# ✅ Use raw GitHub URL (replace this with your actual raw zip URL)\n",
    "url = \"https://github.com/TechGovinda/Datasets/raw/main/Chicken-fecal-images.zip\"\n",
    "\n",
    "# 📥 Download the file\n",
    "response = requests.get(url)\n",
    "\n",
    "# ✅ Check content-type or validate as zip\n",
    "if response.status_code == 200:\n",
    "    try:\n",
    "        with zipfile.ZipFile(io.BytesIO(response.content)) as zip_ref:\n",
    "            extract_path = './extracted_repo'\n",
    "            os.makedirs(extract_path, exist_ok=True)\n",
    "            zip_ref.extractall(extract_path)\n",
    "            print(\"Extraction successful.\")\n",
    "    except zipfile.BadZipFile:\n",
    "        print(\"❌ The downloaded content is not a valid ZIP file.\")\n",
    "else:\n",
    "    print(f\"❌ Failed to download file. Status code: {response.status_code}\")\n"
   ]
  },
  {
   "cell_type": "code",
   "execution_count": 11,
   "id": "5d46278b",
   "metadata": {},
   "outputs": [
    {
     "name": "stdout",
     "output_type": "stream",
     "text": [
      "ZIP file saved successfully.\n",
      "Extraction successful.\n"
     ]
    }
   ],
   "source": [
    "import requests\n",
    "import zipfile\n",
    "import io\n",
    "import os\n",
    "\n",
    "# ✅ Raw GitHub ZIP URL\n",
    "url = \"https://github.com/TechGovinda/Datasets/raw/main/Chicken-fecal-images.zip\"\n",
    "\n",
    "# 📁 Paths for saving and extraction\n",
    "zip_path = \"Chicken-fecal-images.zip\"               # Save the ZIP file locally\n",
    "extract_path = \"./extracted_repo\"                   # Folder to extract the ZIP\n",
    "\n",
    "# 📥 Download the ZIP file\n",
    "response = requests.get(url)\n",
    "\n",
    "if response.status_code == 200:\n",
    "    # 💾 Save the ZIP file locally\n",
    "    with open(zip_path, 'wb') as f:\n",
    "        f.write(response.content)\n",
    "    print(\"ZIP file saved successfully.\")\n",
    "\n",
    "    # ✅ Extract the ZIP file\n",
    "    try:\n",
    "        with zipfile.ZipFile(zip_path, 'r') as zip_ref:\n",
    "            os.makedirs(extract_path, exist_ok=True)\n",
    "            zip_ref.extractall(extract_path)\n",
    "            print(\"Extraction successful.\")\n",
    "    except zipfile.BadZipFile:\n",
    "        print(\"❌ The downloaded file is not a valid ZIP archive.\")\n",
    "else:\n",
    "    print(f\"❌ Failed to download file. Status code: {response.status_code}\")\n"
   ]
  },
  {
   "cell_type": "code",
   "execution_count": null,
   "id": "f174ee7f",
   "metadata": {},
   "outputs": [],
   "source": []
  }
 ],
 "metadata": {
  "kernelspec": {
   "display_name": "Python 3",
   "language": "python",
   "name": "python3"
  },
  "language_info": {
   "codemirror_mode": {
    "name": "ipython",
    "version": 3
   },
   "file_extension": ".py",
   "mimetype": "text/x-python",
   "name": "python",
   "nbconvert_exporter": "python",
   "pygments_lexer": "ipython3",
   "version": "3.10.16"
  }
 },
 "nbformat": 4,
 "nbformat_minor": 5
}
