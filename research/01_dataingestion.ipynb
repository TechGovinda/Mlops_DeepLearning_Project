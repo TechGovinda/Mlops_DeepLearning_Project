{
 "cells": [
  {
   "cell_type": "code",
   "execution_count": 1,
   "id": "7d2cbf8d",
   "metadata": {},
   "outputs": [],
   "source": [
    "import os"
   ]
  },
  {
   "cell_type": "code",
   "execution_count": 2,
   "id": "1c2b1280",
   "metadata": {},
   "outputs": [
    {
     "data": {
      "text/plain": [
       "'c:\\\\Users\\\\Govinda sah\\\\MLOPs\\\\Mlops_DeepLearning_Project\\\\research'"
      ]
     },
     "execution_count": 2,
     "metadata": {},
     "output_type": "execute_result"
    }
   ],
   "source": [
    "os.getcwd()"
   ]
  },
  {
   "cell_type": "code",
   "execution_count": 3,
   "id": "9eb12395",
   "metadata": {},
   "outputs": [
    {
     "name": "stdout",
     "output_type": "stream",
     "text": [
      "Current directory: c:\\Users\\Govinda sah\\MLOPs\\Mlops_DeepLearning_Project\n"
     ]
    }
   ],
   "source": [
    "os.chdir(\"..\")\n",
    "print(\"Current directory:\", os.getcwd())"
   ]
  },
  {
   "cell_type": "code",
   "execution_count": 4,
   "id": "02821d00",
   "metadata": {},
   "outputs": [
    {
     "data": {
      "text/plain": [
       "'c:\\\\Users\\\\Govinda sah\\\\MLOPs\\\\Mlops_DeepLearning_Project'"
      ]
     },
     "execution_count": 4,
     "metadata": {},
     "output_type": "execute_result"
    }
   ],
   "source": [
    "os.getcwd()\n"
   ]
  },
  {
   "cell_type": "code",
   "execution_count": 5,
   "id": "d5de5632",
   "metadata": {},
   "outputs": [
    {
     "name": "stdout",
     "output_type": "stream",
     "text": [
      "c:\\Users\\Govinda sah\\MLOPs\\Mlops_DeepLearning_Project\n"
     ]
    }
   ],
   "source": [
    "print(os.getcwd())"
   ]
  },
  {
   "cell_type": "code",
   "execution_count": 6,
   "id": "b8376ab5",
   "metadata": {},
   "outputs": [],
   "source": [
    "from dataclasses import dataclass\n",
    "from pathlib import Path\n",
    "\n",
    "@dataclass(frozen=True)\n",
    "class DataIngestionConfig:\n",
    "    root_dir: Path\n",
    "    source_URL: str\n",
    "    local_data_file: Path\n",
    "    unzip_dir: Path\n",
    "\n",
    "    "
   ]
  },
  {
   "cell_type": "code",
   "execution_count": 7,
   "id": "ad979bfc",
   "metadata": {},
   "outputs": [],
   "source": [
    "from cnnClassifier.constants import CONFIG_FILE_PATH, PARAMS_FILE_PATH\n",
    "from cnnClassifier.utils.common import read_yaml, create_directories"
   ]
  },
  {
   "cell_type": "code",
   "execution_count": 8,
   "id": "16aeba40",
   "metadata": {},
   "outputs": [],
   "source": [
    "\n",
    "class ConfigurationManager:\n",
    "    def __init__(\n",
    "        self,\n",
    "        config_filepath = CONFIG_FILE_PATH,\n",
    "        params_filepath = PARAMS_FILE_PATH):\n",
    "\n",
    "        self.config = read_yaml(config_filepath)\n",
    "        self.params = read_yaml(params_filepath)\n",
    "\n",
    "        create_directories([self.config.artifacts_root])\n",
    "\n",
    "\n",
    "    \n",
    "    def get_data_ingestion_config(self) -> DataIngestionConfig:\n",
    "        config = self.config.data_ingestion\n",
    "\n",
    "        create_directories([config.root_dir])\n",
    "\n",
    "        data_ingestion_config = DataIngestionConfig(\n",
    "            root_dir=config.root_dir,\n",
    "            source_URL=config.source_URL,\n",
    "            local_data_file=config.local_data_file,\n",
    "            unzip_dir=config.unzip_dir \n",
    "        )\n",
    "\n",
    "        return data_ingestion_config"
   ]
  },
  {
   "cell_type": "code",
   "execution_count": 9,
   "id": "adcdee75",
   "metadata": {},
   "outputs": [],
   "source": [
    "import os\n",
    "import requests\n",
    "import zipfile\n",
    "from cnnClassifier import logger\n",
    "from dataclasses import dataclass\n",
    "\n",
    "# Setup logger (ensure this is done only once in your main module)\n",
    "\n",
    "# ✅ Configuration class using dataclass\n",
    "# @dataclass\n",
    "# class DataIngestionConfig:\n",
    "#     source_URL: str         # URL to download ZIP file\n",
    "#     local_data_file: str    # ZIP file name to save\n",
    "#     root_dir: str           # Directory to save ZIP file\n",
    "#     unzip_dir: str          # Directory to extract contents\n",
    "\n",
    "# ✅ Main Data Ingestion Class\n",
    "class DataIngestion:\n",
    "    def __init__(self, config: DataIngestionConfig):\n",
    "        self.config = config\n",
    "\n",
    "    def download_file(self) -> str:\n",
    "        \"\"\"\n",
    "        Downloads a ZIP file from a URL and saves it locally.\n",
    "        Returns:\n",
    "            str: Path to the downloaded ZIP file.\n",
    "        \"\"\"\n",
    "        url = self.config.source_URL\n",
    "        rootdir = self.config.root_dir\n",
    "        filename = self.config.local_data_file\n",
    "        \n",
    "        os.makedirs(rootdir, exist_ok=True)\n",
    "        zip_file_path = os.path.join(rootdir, filename)\n",
    "\n",
    "        logger.info(f\"Starting download from {url}\")\n",
    "        response = requests.get(url)\n",
    "\n",
    "        if response.status_code == 200:\n",
    "            with open(zip_file_path, 'wb') as f:\n",
    "                f.write(response.content)\n",
    "            logger.info(f\"✅ ZIP file saved at: {zip_file_path}\")\n",
    "            return zip_file_path\n",
    "        else:\n",
    "            logger.error(f\"❌ Download failed with status code: {response.status_code}\")\n",
    "            raise Exception(f\"Download failed with status code: {response.status_code}\")\n",
    "\n",
    "    def extract_zip_file(self) -> bool:\n",
    "        \"\"\"\n",
    "        Extracts the downloaded ZIP file into the specified directory.\n",
    "        Returns:\n",
    "            bool: True if extraction is successful, else False.\n",
    "        \"\"\"\n",
    "        zip_file_path = os.path.join(self.config.root_dir, self.config.local_data_file)\n",
    "        unzip_path = self.config.unzip_dir\n",
    "\n",
    "        if not os.path.exists(zip_file_path):\n",
    "            logger.error(f\"❌ ZIP file not found at: {zip_file_path}\")\n",
    "            return False\n",
    "\n",
    "        try:\n",
    "            os.makedirs(unzip_path, exist_ok=True)\n",
    "            with zipfile.ZipFile(zip_file_path, 'r') as zip_ref:\n",
    "                zip_ref.extractall(unzip_path)\n",
    "            logger.info(f\"✅ ZIP file extracted to: {unzip_path}\")\n",
    "            return True\n",
    "        except zipfile.BadZipFile:\n",
    "            logger.error(\"❌ The file is not a valid ZIP archive.\")\n",
    "            return False\n"
   ]
  },
  {
   "cell_type": "code",
   "execution_count": 10,
   "id": "2a4be520",
   "metadata": {},
   "outputs": [
    {
     "name": "stdout",
     "output_type": "stream",
     "text": [
      "[2025-04-14 21:00:41,368: INFO: common: yaml file: C:\\Users\\Govinda sah\\MLOPs\\Mlops_DeepLearning_Project\\config\\config.yaml loaded successfully]\n",
      "[2025-04-14 21:00:41,378: INFO: common: yaml file: C:\\Users\\Govinda sah\\MLOPs\\Mlops_DeepLearning_Project\\params.yaml loaded successfully]\n",
      "[2025-04-14 21:00:41,381: INFO: common: created directory at: artifacts]\n",
      "[2025-04-14 21:00:41,382: INFO: common: created directory at: artifacts\\data_ingestion]\n",
      "[2025-04-14 21:00:41,384: INFO: 1996508912: Starting download from https://github.com/TechGovinda/Datasets/raw/main/Chicken-fecal-images.zip]\n",
      "[2025-04-14 21:00:43,540: INFO: 1996508912: ✅ ZIP file saved at: artifacts\\data_ingestion\\data.zip]\n",
      "[2025-04-14 21:00:43,942: INFO: 1996508912: ✅ ZIP file extracted to: artifacts\\extreacted_repo]\n"
     ]
    }
   ],
   "source": [
    "try:\n",
    "    config = ConfigurationManager()\n",
    "    data_ingestion_config = config.get_data_ingestion_config()\n",
    "    data_ingestion = DataIngestion(config=data_ingestion_config)\n",
    "    data_ingestion.download_file()\n",
    "    data_ingestion.extract_zip_file()\n",
    "except Exception as e:\n",
    "    raise e"
   ]
  },
  {
   "cell_type": "code",
   "execution_count": null,
   "id": "0b0f52cd",
   "metadata": {},
   "outputs": [],
   "source": []
  }
 ],
 "metadata": {
  "kernelspec": {
   "display_name": "Python 3",
   "language": "python",
   "name": "python3"
  },
  "language_info": {
   "codemirror_mode": {
    "name": "ipython",
    "version": 3
   },
   "file_extension": ".py",
   "mimetype": "text/x-python",
   "name": "python",
   "nbconvert_exporter": "python",
   "pygments_lexer": "ipython3",
   "version": "3.10.16"
  }
 },
 "nbformat": 4,
 "nbformat_minor": 5
}
